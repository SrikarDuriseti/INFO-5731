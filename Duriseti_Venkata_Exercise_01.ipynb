{
  "cells": [
    {
      "cell_type": "markdown",
      "metadata": {
        "id": "view-in-github"
      },
      "source": [
        "<a href=\"https://colab.research.google.com/github/unt-iialab/INFO5731_Spring2020/blob/master/In_class_exercise/In_class_exercise_01.ipynb\" target=\"_parent\"><img src=\"https://colab.research.google.com/assets/colab-badge.svg\" alt=\"Open In Colab\"/></a>"
      ]
    },
    {
      "cell_type": "markdown",
      "metadata": {
        "id": "DymRJbxDBCnf"
      },
      "source": [
        "# **This first In-class-exercise cover a variety of fundamental concepts in Python and are designed to help individuals improve their coding skills and problem-solving abilities.**\n",
        "\n",
        "The submission is due on 01/31/2024 11:59 PM. This submission is worth 40 points in total.\n"
      ]
    },
    {
      "cell_type": "markdown",
      "source": [
        "(1) Write a Python program that  prompts the user to input the length and width of a rectangle, and then calculates and displays the area of the rectangle."
      ],
      "metadata": {
        "id": "FBKvD6O_TY6e"
      }
    },
    {
      "cell_type": "code",
      "source": [
        "length = int(input('what is the length of the rectangle?'))\n",
        "width  = int(input('what is the width of the rectangle?'))\n",
        "\n",
        "#Area of rectangle\n",
        "area_of_rectangle = length * width\n",
        "[print(area_of_rectangle)]"
      ],
      "metadata": {
        "id": "cikVKDXdTbzE",
        "colab": {
          "base_uri": "https://localhost:8080/"
        },
        "outputId": "c2996c1c-ceba-4b34-9a6c-140300f6d8d5"
      },
      "execution_count": 124,
      "outputs": [
        {
          "output_type": "stream",
          "name": "stdout",
          "text": [
            "what is the length of the rectangle?4\n",
            "what is the width of the rectangle?3\n",
            "12\n"
          ]
        },
        {
          "output_type": "execute_result",
          "data": {
            "text/plain": [
              "[None]"
            ]
          },
          "metadata": {},
          "execution_count": 124
        }
      ]
    },
    {
      "cell_type": "markdown",
      "source": [
        "(2) Create a Python program that interactively takes two numerical inputs from the user and swaps their values without utilizing an extra variable."
      ],
      "metadata": {
        "id": "E9RqrlwdTfvl"
      }
    },
    {
      "cell_type": "code",
      "source": [
        "a = int(input('give a'))\n",
        "b = int(input('give b'))\n",
        "\n",
        "b,a=a,b\n",
        "print(a,b)"
      ],
      "metadata": {
        "id": "4XvRknixTh1g",
        "colab": {
          "base_uri": "https://localhost:8080/"
        },
        "outputId": "ef45c466-09e9-4a0e-afaf-8ae60c2331d5"
      },
      "execution_count": 126,
      "outputs": [
        {
          "output_type": "stream",
          "name": "stdout",
          "text": [
            "give a3\n",
            "give b4\n",
            "4 3\n"
          ]
        }
      ]
    },
    {
      "cell_type": "markdown",
      "metadata": {
        "id": "03jb4GZsBkBS"
      },
      "source": [
        "4(3) Write a Python script to determine and print the length of a user-input string."
      ]
    },
    {
      "cell_type": "code",
      "execution_count": null,
      "metadata": {
        "id": "YaGLbSHHB8Ej",
        "colab": {
          "base_uri": "https://localhost:8080/"
        },
        "outputId": "b53b4068-9c49-4e98-fd0f-e52184bec216"
      },
      "outputs": [
        {
          "name": "stdout",
          "output_type": "stream",
          "text": [
            "give a stringrandom\n"
          ]
        },
        {
          "output_type": "execute_result",
          "data": {
            "text/plain": [
              "6"
            ]
          },
          "metadata": {},
          "execution_count": 8
        }
      ],
      "source": [
        "sample=input('give a string')\n",
        "len(sample)"
      ]
    },
    {
      "cell_type": "markdown",
      "metadata": {
        "id": "jJDe71iLB616"
      },
      "source": [
        "(4) Construct a Python program that counts and displays the occurrences of each character in a given string.\n",
        "\n",
        "Sample String: 'openai.ai',\n",
        "\n",
        "Expected Result: {'a': 2, 'i': 2, '.': 1, 'o': 1, 'p': 1, 'e': 1, 'n': 1}"
      ]
    },
    {
      "cell_type": "code",
      "execution_count": null,
      "metadata": {
        "id": "MtKskTzbCLaU",
        "colab": {
          "base_uri": "https://localhost:8080/"
        },
        "outputId": "0be60475-f7e3-45e7-c974-5b126769ce84"
      },
      "outputs": [
        {
          "output_type": "stream",
          "name": "stdout",
          "text": [
            "'s':1\n",
            "'r':2\n",
            "'i':1\n",
            "'k':1\n",
            "'a':1\n"
          ]
        }
      ],
      "source": [
        "sample = 'srikar'\n",
        "my_dict={}\n",
        "for i in sample:\n",
        "  if i in my_dict:\n",
        "    my_dict[i]+=1\n",
        "  else:\n",
        "    my_dict[i]=1\n",
        "\n",
        "for i,count in my_dict.items():\n",
        "  print(f\"'{i}':{count}\")\n",
        "\n"
      ]
    },
    {
      "cell_type": "markdown",
      "metadata": {
        "id": "55W9AMdXCSpV"
      },
      "source": [
        "(5) Design a Python code to calculate the sum of all elements in a user-provided list."
      ]
    },
    {
      "cell_type": "code",
      "execution_count": null,
      "metadata": {
        "id": "I57NXsauCec2",
        "colab": {
          "base_uri": "https://localhost:8080/"
        },
        "outputId": "a162b8e7-7b50-41b5-8de9-88e3def1e04c"
      },
      "outputs": [
        {
          "output_type": "stream",
          "name": "stdout",
          "text": [
            "95\n"
          ]
        }
      ],
      "source": [
        "sum=0\n",
        "list_1=[22,30,10,18,15]\n",
        "for i in range(0,len(list_1)):\n",
        "  sum=sum+list_1[i]\n",
        "\n",
        "print(sum)\n"
      ]
    },
    {
      "cell_type": "markdown",
      "metadata": {
        "id": "4ulBZ6yhCi9F"
      },
      "source": [
        "(6) Write a Python program that modifies a given string by replacing all occurrences of its first character with '$', excluding the first character itself.\n",
        "\n",
        "\n",
        "Sample String : 'restart‘,\n",
        "\n",
        "Expected Result : 'resta\\$t'"
      ]
    },
    {
      "cell_type": "code",
      "execution_count": null,
      "metadata": {
        "id": "Fj0XhwbBCw2o",
        "colab": {
          "base_uri": "https://localhost:8080/",
          "height": 36
        },
        "outputId": "6a73ba1e-025d-4714-8202-54cad3c6e32c"
      },
      "outputs": [
        {
          "output_type": "execute_result",
          "data": {
            "text/plain": [
              "'snicker$'"
            ],
            "application/vnd.google.colaboratory.intrinsic+json": {
              "type": "string"
            }
          },
          "metadata": {},
          "execution_count": 116
        }
      ],
      "source": [
        "def change_char(str1):\n",
        "    char = str1[0]\n",
        "    str1 = str1.replace(char, '$') #replacing the character with $\n",
        "    str1 = char + str1[1:]\n",
        "    return str1\n",
        "\n",
        "change_char('snickers')"
      ]
    },
    {
      "cell_type": "markdown",
      "source": [
        "(7) Write a Python program using a while loop to compute the factorial of a user-supplied number."
      ],
      "metadata": {
        "id": "qVXA3q7ET5JI"
      }
    },
    {
      "cell_type": "code",
      "source": [
        "factorial=1\n",
        "number=int(input('give number'))\n",
        "if number>0:\n",
        "  for i in range(1,number+1):\n",
        "    factorial=factorial*i\n",
        "    continue\n",
        "  print(factorial)\n",
        "else:\n",
        "  print('give a valid number')\n"
      ],
      "metadata": {
        "id": "Lbt7R6UkT7BA",
        "colab": {
          "base_uri": "https://localhost:8080/"
        },
        "outputId": "815ca4f0-019f-4f11-c54e-34a14c06b30a"
      },
      "execution_count": 127,
      "outputs": [
        {
          "output_type": "stream",
          "name": "stdout",
          "text": [
            "give number3\n",
            "6\n"
          ]
        }
      ]
    },
    {
      "cell_type": "markdown",
      "source": [
        "(8) Create a program that accepts a list of numbers as input and outputs a new list containing only the even numbers."
      ],
      "metadata": {
        "id": "6YfbzXMNT--R"
      }
    },
    {
      "cell_type": "code",
      "source": [
        "def even_number(given_list):\n",
        "  new_list=[]\n",
        "  for i in given_list:\n",
        "    if i%2==0:\n",
        "      new_list.append(i)  #NEWlist\n",
        "  return new_list\n",
        "\n",
        "even_number([3,4,5,6])"
      ],
      "metadata": {
        "id": "54q7wMQPUAKu",
        "colab": {
          "base_uri": "https://localhost:8080/"
        },
        "outputId": "4c48f907-18e7-472e-cc40-4094547738ea"
      },
      "execution_count": 128,
      "outputs": [
        {
          "output_type": "execute_result",
          "data": {
            "text/plain": [
              "[4, 6]"
            ]
          },
          "metadata": {},
          "execution_count": 128
        }
      ]
    },
    {
      "cell_type": "markdown",
      "metadata": {
        "id": "_bIP7s1MCzue"
      },
      "source": [
        "\n",
        "(9) Design a Python function to check if a number is prime.\n"
      ]
    },
    {
      "cell_type": "code",
      "execution_count": null,
      "metadata": {
        "id": "w79QilHXD3Mg",
        "colab": {
          "base_uri": "https://localhost:8080/"
        },
        "outputId": "25ac9e49-2686-40c4-bc48-6ee34fb391c0"
      },
      "outputs": [
        {
          "output_type": "stream",
          "name": "stdout",
          "text": [
            "give a number7\n",
            "7 is a prime\n"
          ]
        }
      ],
      "source": [
        "number=int(input('give a number'))\n",
        "if number>1:\n",
        "  for i in range(2,int(number/2)+1):\n",
        "    if (number%i)==0:\n",
        "      print(number,\"is not a prime\")\n",
        "      break\n",
        "  else:                                                      #for-else statement is used\n",
        "    print(number,\"is a prime\")\n",
        "else:\n",
        "  print(number,\"is not a prime\")"
      ]
    },
    {
      "cell_type": "markdown",
      "metadata": {
        "id": "xCa2bK9aD4Q3"
      },
      "source": [
        "(10) Write a Python program to concatenate following dictionaries to create a new one.\n",
        "\n",
        "Sample Dictionary : dic1={1:10, 2:20}, dic2={3:30, 4:40}, dic3={5:50,6:60},\n",
        "\n",
        "Expected Result : {1: 10, 2: 20, 3: 30, 4: 40, 5: 50, 6: 60}\n"
      ]
    },
    {
      "cell_type": "code",
      "execution_count": null,
      "metadata": {
        "id": "_z4aLqAbEET1",
        "colab": {
          "base_uri": "https://localhost:8080/"
        },
        "outputId": "f6424699-2d44-42f2-c702-a259c97c978e"
      },
      "outputs": [
        {
          "output_type": "stream",
          "name": "stdout",
          "text": [
            "{1: 10, 2: 20}\n",
            "{1: 10, 2: 20, 3: 30, 4: 40}\n",
            "{1: 10, 2: 20, 3: 30, 4: 40, 5: 50, 6: 60}\n"
          ]
        }
      ],
      "source": [
        "dic1={1:10,2:20}\n",
        "dic2={3:30,4:40}\n",
        "dic3={5:50,6:60}\n",
        "\n",
        "final_dic={}\n",
        "final_dic.update(dic1)\n",
        "print(final_dic)\n",
        "final_dic.update(dic2)\n",
        "print(final_dic)\n",
        "final_dic.update(dic3)\n",
        "print(final_dic)\n",
        "\n"
      ]
    },
    {
      "cell_type": "markdown",
      "source": [
        "(11) Design a Python function that takes a tuple of integers as input and returns the largest and smallest elements."
      ],
      "metadata": {
        "id": "bkyZ2xSZUOst"
      }
    },
    {
      "cell_type": "code",
      "source": [
        "def largest_smallest(my_tuple):\n",
        "\n",
        "  if not my_tuple:\n",
        "    return None, None\n",
        "\n",
        "  largest = my_tuple[0]\n",
        "  smallest = my_tuple[0]\n",
        "\n",
        "  for num in my_tuple:\n",
        "    largest = max(largest, num)\n",
        "    smallest = min(smallest, num)\n",
        "\n",
        "  return largest, smallest\n",
        "\n",
        "my_tuple = (7,17,32,74,56)\n",
        "largest, smallest = largest_smallest(my_tuple)\n",
        "\n",
        "print(f\"Largest: {largest}\")\n",
        "print(f\"Smallest: {smallest}\")\n"
      ],
      "metadata": {
        "id": "3FdLRBKOUQEd",
        "colab": {
          "base_uri": "https://localhost:8080/"
        },
        "outputId": "9eafc84e-ec86-4581-df2c-630c0607bbeb"
      },
      "execution_count": null,
      "outputs": [
        {
          "output_type": "stream",
          "name": "stdout",
          "text": [
            "Largest: 74\n",
            "Smallest: 7\n"
          ]
        }
      ]
    },
    {
      "cell_type": "markdown",
      "source": [
        "(12) Write a Python program that counts the frequency of each character in a given string and stores it in a dictionary."
      ],
      "metadata": {
        "id": "O0TVi3gKUTpp"
      }
    },
    {
      "cell_type": "code",
      "source": [
        "def freq(my_str):\n",
        "  my_dict={}\n",
        "  for i in my_str:\n",
        "    keys=my_dict.keys()\n",
        "\n",
        "    if i in keys:\n",
        "      my_dict[i]+=1\n",
        "    else:\n",
        "      my_dict[i]=1\n",
        "  return my_dict\n",
        "\n",
        "freq('srikar')\n",
        "\n"
      ],
      "metadata": {
        "id": "lAtfSfZXUU-h",
        "colab": {
          "base_uri": "https://localhost:8080/"
        },
        "outputId": "e6cf2127-2b21-4d71-b07a-4ad57eead308"
      },
      "execution_count": null,
      "outputs": [
        {
          "output_type": "execute_result",
          "data": {
            "text/plain": [
              "{'s': 1, 'r': 2, 'i': 1, 'k': 1, 'a': 1}"
            ]
          },
          "metadata": {},
          "execution_count": 82
        }
      ]
    },
    {
      "cell_type": "markdown",
      "metadata": {
        "id": "0v48Vqa7FrQh"
      },
      "source": [
        "(13) Implement a Python script to identify duplicate elements in a provided array of integers. Return -1 if there are no duplicates."
      ]
    },
    {
      "cell_type": "code",
      "execution_count": null,
      "metadata": {
        "id": "7WEmgq-DF2P1",
        "colab": {
          "base_uri": "https://localhost:8080/"
        },
        "outputId": "bef0c53b-1bb5-4a4a-9f2d-b3d865410869"
      },
      "outputs": [
        {
          "output_type": "execute_result",
          "data": {
            "text/plain": [
              "2"
            ]
          },
          "metadata": {},
          "execution_count": 83
        }
      ],
      "source": [
        "def duplicate(num):\n",
        "  numbers_set=set()\n",
        "  no_duplicate=-1\n",
        "\n",
        "  for i in range(len(num)):\n",
        "    if num[i] in numbers_set:\n",
        "      return num[i]\n",
        "    else:\n",
        "      numbers_set.add(num[i])\n",
        "\n",
        "  return no_duplicate\n",
        "\n",
        "duplicate([2,4,5,2,4]) #prints the first duplicate"
      ]
    },
    {
      "cell_type": "markdown",
      "metadata": {
        "id": "vD5PYLMuGga_"
      },
      "source": [
        "(14) Write a Python script to find the common elements between two lists."
      ]
    },
    {
      "cell_type": "code",
      "execution_count": null,
      "metadata": {
        "id": "t0D5kdJUGjjw",
        "colab": {
          "base_uri": "https://localhost:8080/"
        },
        "outputId": "1844cdea-eeea-4403-d9d5-c5f9c97a4fc5"
      },
      "outputs": [
        {
          "output_type": "execute_result",
          "data": {
            "text/plain": [
              "[2, 3]"
            ]
          },
          "metadata": {},
          "execution_count": 53
        }
      ],
      "source": [
        "def lists(list_a,list_b):\n",
        "  common_list=[]\n",
        "\n",
        "  for i in list_a:\n",
        "    if i in list_b:\n",
        "      common_list.append(i)\n",
        "  return common_list\n",
        "\n",
        "lists([2,3,4,7],[3,6,2,1])"
      ]
    },
    {
      "cell_type": "markdown",
      "metadata": {
        "id": "uHkd-y5VhVWC"
      },
      "source": [
        "(15) Write a Python program to randomly divide the students in this class into six groups for term projects, each group should have at least 4 students but no more than 6 students (including 6).\n",
        "\n",
        "Here is the students list:\n",
        "\n",
        "student_list_spring_2024=['rb0846',\n",
        "'ac1964',\n",
        "'hc0612',\n",
        "'md0912',\n",
        "'ad1198',\n",
        "'md0894',\n",
        "'md0825',\n",
        "'vg0598',\n",
        "'vg0433',\n",
        "'mh1068',\n",
        "'yj0173',\n",
        "'pk0553',\n",
        "'tk0411',\n",
        "'srk0204',\n",
        "'sk2922',\n",
        "'sk2936',\n",
        "'mk1302',\n",
        "'mk1317',\n",
        "'tk0412',\n",
        "'vk0656',\n",
        "'sm2985',\n",
        "'mm2372',\n",
        "'un0045',\n",
        "'an0892',\n",
        "'sn0913',\n",
        "'gp0252',\n",
        "'ap1484',\n",
        "'mr1765',\n",
        "'sr1385',\n",
        "'sr1335',\n",
        "'hs0665',\n",
        "'ms2060',\n",
        "'gt0217',\n",
        "'nt0385',\n",
        "'tv0186',\n",
        "'sv1394',\n",
        "'sv1752',\n",
        "'sv1555',\n",
        "'sy0594'\n",
        "]\n"
      ]
    },
    {
      "cell_type": "code",
      "execution_count": null,
      "metadata": {
        "id": "3iGbmcOBhTwy"
      },
      "outputs": [],
      "source": []
    },
    {
      "cell_type": "markdown",
      "metadata": {
        "id": "fmZ9vX20Qs3d"
      },
      "source": [
        "(16) Create a program that takes a positive integer 'n' as input and prints the count of even numbers from 1 to 'n'. Optimize the loop using the break statement."
      ]
    },
    {
      "cell_type": "code",
      "execution_count": 129,
      "metadata": {
        "id": "W8Jw6sWMQs3d",
        "colab": {
          "base_uri": "https://localhost:8080/"
        },
        "outputId": "1ad68b10-6ebb-4741-80ec-4bf44f24e5e2"
      },
      "outputs": [
        {
          "name": "stdout",
          "output_type": "stream",
          "text": [
            "Enter a positive integer: 6\n"
          ]
        },
        {
          "output_type": "execute_result",
          "data": {
            "text/plain": [
              "3"
            ]
          },
          "metadata": {},
          "execution_count": 129
        }
      ],
      "source": [
        "def even_numbers(num):\n",
        "\n",
        "    if num <= 0:\n",
        "        return 0\n",
        "\n",
        "    count = 0\n",
        "    for i in range(1, num+ 1, 2):\n",
        "        count += 1\n",
        "        if i == num:\n",
        "            break\n",
        "\n",
        "    return count\n",
        "\n",
        "num = int(input(\"Enter a positive integer: \"))\n",
        "\n",
        "even_numbers(num)\n",
        "\n"
      ]
    },
    {
      "cell_type": "markdown",
      "metadata": {
        "id": "hvq4APMhQs3d"
      },
      "source": [
        "(17) Develop a Python function called 'count_vowels' that takes a string as input and returns the count of vowels (both lowercase and uppercase) present in the string, ignoring spaces and non-alphabetic characters."
      ]
    },
    {
      "cell_type": "code",
      "execution_count": null,
      "metadata": {
        "id": "ZnoxhSglQs3d",
        "colab": {
          "base_uri": "https://localhost:8080/"
        },
        "outputId": "b4f7623f-bba6-4d54-a319-4b9bee6b68e6"
      },
      "outputs": [
        {
          "output_type": "execute_result",
          "data": {
            "text/plain": [
              "3"
            ]
          },
          "metadata": {},
          "execution_count": 96
        }
      ],
      "source": [
        "def vowels_count(my_str):\n",
        "  vowels='aeiouAEIOU'\n",
        "  vowels_count=0\n",
        "\n",
        "  for i in my_str:\n",
        "    if i.isalpha() and i in vowels:\n",
        "      vowels_count+=1\n",
        "\n",
        "  return vowels_count\n",
        "\n",
        "vowels_count('happy birthday')\n",
        "\n"
      ]
    },
    {
      "cell_type": "markdown",
      "source": [
        "(18) Create a custom exception named ValueTooSmallError in Python. Write a program that takes user input for an age, and if the entered age is less than 18, raise the ValueTooSmallError with an appropriate error message."
      ],
      "metadata": {
        "id": "55FWoSJPVVM6"
      }
    },
    {
      "cell_type": "code",
      "source": [
        "class ValueTooSmallError(Exception):\n",
        "   pass\n",
        "def check_age():\n",
        "\n",
        "   age = int(input(\"Enter your age \"))\n",
        "   if age < 18:\n",
        "       raise ValueTooSmallError(\"Age is too less, try more than 18\")\n",
        "   else:\n",
        "       print(\"Good, it is working\")\n",
        "\n",
        "try:\n",
        "   check_age()\n",
        "except ValueTooSmallError as error:\n",
        "   print(error)"
      ],
      "metadata": {
        "id": "hwtr1wZmVX5A",
        "colab": {
          "base_uri": "https://localhost:8080/"
        },
        "outputId": "ee21cdec-c079-42c6-d0b0-23ecfd1ebf27"
      },
      "execution_count": null,
      "outputs": [
        {
          "output_type": "stream",
          "name": "stdout",
          "text": [
            "Enter your age 17\n",
            "Age is too less, try more than 18\n"
          ]
        }
      ]
    },
    {
      "cell_type": "markdown",
      "source": [
        "(19) Develop a script that reverses a given string without using built-in reverse functions."
      ],
      "metadata": {
        "id": "Q9ecagcaVazW"
      }
    },
    {
      "cell_type": "code",
      "source": [
        "my_str=input('give a string')\n",
        "\n",
        "for i in range(len(my_str)-1,-1,-1): # back step  means -1\n",
        "  reversed_str=my_str[i]\n",
        "  print(reversed_str,end='')"
      ],
      "metadata": {
        "id": "gycgckoAVZjR",
        "colab": {
          "base_uri": "https://localhost:8080/"
        },
        "outputId": "89d1c98e-4b34-4e09-d7f0-a7994d3ed15a"
      },
      "execution_count": null,
      "outputs": [
        {
          "output_type": "stream",
          "name": "stdout",
          "text": [
            "give a stringi am good\n",
            "doog ma i"
          ]
        }
      ]
    },
    {
      "cell_type": "markdown",
      "source": [
        "(20) Implement a Python script to generate a random password of a specified length."
      ],
      "metadata": {
        "id": "ZFG6RibifMLu"
      }
    },
    {
      "cell_type": "code",
      "source": [
        "import string #to import ascii values,digits\n",
        "import random # to random numbers,characters\n",
        "def generate_password(length=8):\n",
        "\n",
        "  all_characters = string.ascii_letters + string.digits + string.punctuation\n",
        "  password = ''.join(random.choice(all_characters) for i in range(length))\n",
        "  return password\n",
        "\n",
        "\n",
        "password_length = int(input(\"give the length password: \"))\n",
        "\n",
        "password = generate_password(password_length)\n",
        "print(f\" password is: {password}\")\n"
      ],
      "metadata": {
        "id": "BFVrkEi9fNiD",
        "colab": {
          "base_uri": "https://localhost:8080/"
        },
        "outputId": "e9db2c94-9f35-41a5-a8a4-cd1827df8a96"
      },
      "execution_count": 130,
      "outputs": [
        {
          "output_type": "stream",
          "name": "stdout",
          "text": [
            "give the length password: 8\n",
            " password is: g!o+p&h'\n"
          ]
        }
      ]
    },
    {
      "cell_type": "markdown",
      "source": [
        "# Try these questions:"
      ],
      "metadata": {
        "id": "6SmvS7nSfbj8"
      }
    },
    {
      "cell_type": "markdown",
      "source": [
        "(21) Define a base class called 'Vehicle' with attributes make and model. Create a derived class Car that inherits from Vehicle and has an additional attribute 'num_doors'. Demonstrate an example of creating an instance of the 'Car' class and accessing its attributes."
      ],
      "metadata": {
        "id": "cboAr5pEWUf5"
      }
    },
    {
      "cell_type": "code",
      "source": [
        "# write your answer here\n"
      ],
      "metadata": {
        "id": "phs9gciMWWAW"
      },
      "execution_count": null,
      "outputs": []
    },
    {
      "cell_type": "markdown",
      "source": [
        "(22) Create a class called 'Shape' with a method calculate_area(). Implement two derived classes 'Circle' and 'Rectangle' that inherit from Shape and override the calculate_area() method. Demonstrate polymorphism by creating instances of both derived classes and calling the calculate_area() method."
      ],
      "metadata": {
        "id": "J8HHefNtePwd"
      }
    },
    {
      "cell_type": "code",
      "source": [
        "# write your answer here"
      ],
      "metadata": {
        "id": "btnMmUZDeRhS"
      },
      "execution_count": null,
      "outputs": []
    },
    {
      "cell_type": "markdown",
      "source": [
        "(23) Write a Python program that prompts the user to enter two numbers and perform a division operation. Handle exceptions for both zero division and invalid input (non-numeric input). Display appropriate error messages for each type of exception and ensure the program does not crash due to these errors."
      ],
      "metadata": {
        "id": "z0oqEAlTeMUS"
      }
    },
    {
      "cell_type": "code",
      "source": [
        "# write your answer here"
      ],
      "metadata": {
        "id": "yjdc1zM1eMAs"
      },
      "execution_count": null,
      "outputs": []
    },
    {
      "cell_type": "markdown",
      "source": [
        "# Mandatory Question"
      ],
      "metadata": {
        "id": "sZOhks1dXWEe"
      }
    },
    {
      "cell_type": "markdown",
      "source": [
        "**Important:**\n",
        "Reflecting on the first three lectures and the exercises you've completed, please provide feedback on your learning experience. Share your thoughts on whether the material covered was clear, the exercises were helpful, and if you feel more confident in applying Python programming concepts. Additionally, mention any specific areas where you would like more clarification or topics you would like to explore further in future lectures. Your feedback is valuable in shaping the course for an effective learning journey."
      ],
      "metadata": {
        "id": "eqmHVEwaWhbV"
      }
    },
    {
      "cell_type": "markdown",
      "source": [
        "Write your response here."
      ],
      "metadata": {
        "id": "HlpXOT9wXQAd"
      }
    },
    {
      "cell_type": "markdown",
      "source": [
        "This particular session helped me in revising all python basics which I learnt longback. I'm thankful to the professor and TAs for covering every important concept in Python. Exception handling, OOPS are also covered. I like the functions and OOPS concepts, would be interested in studying those again. I would be interested in exploring the modules and packages topics. Lastly,Guest lecture by Bhanu Prasad Gollapudi is informative and thoughtful."
      ],
      "metadata": {
        "id": "hc4kfiB8vpQV"
      }
    },
    {
      "cell_type": "code",
      "source": [],
      "metadata": {
        "id": "JFFmdQbrx4Ed"
      },
      "execution_count": null,
      "outputs": []
    }
  ],
  "metadata": {
    "colab": {
      "provenance": []
    },
    "kernelspec": {
      "display_name": "Python 3 (ipykernel)",
      "language": "python",
      "name": "python3"
    },
    "language_info": {
      "codemirror_mode": {
        "name": "ipython",
        "version": 3
      },
      "file_extension": ".py",
      "mimetype": "text/x-python",
      "name": "python",
      "nbconvert_exporter": "python",
      "pygments_lexer": "ipython3",
      "version": "3.9.12"
    }
  },
  "nbformat": 4,
  "nbformat_minor": 0
}